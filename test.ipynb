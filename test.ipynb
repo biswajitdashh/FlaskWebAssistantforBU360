{
 "cells": [
  {
   "cell_type": "code",
   "execution_count": 1,
   "metadata": {},
   "outputs": [],
   "source": [
    "from flask import Flask, request,redirect,render_template,url_for\n",
    "import openai\n",
    "import os\n",
    "from dotenv import load_dotenv"
   ]
  },
  {
   "cell_type": "code",
   "execution_count": 2,
   "metadata": {},
   "outputs": [
    {
     "name": "stdout",
     "output_type": "stream",
     "text": [
      "sk-proj-sbtJGtpeQXb8IEsG5aSNT3BlbkFJFNS3WvxPwgZ9IoQJoGK2\n"
     ]
    }
   ],
   "source": [
    "load_dotenv()\n",
    "app = Flask(__name__)\n",
    "openai.api_key = os.getenv('OPENAI_API_KEY')\n",
    "print(openai.api_key)"
   ]
  },
  {
   "cell_type": "code",
   "execution_count": 7,
   "metadata": {},
   "outputs": [],
   "source": [
    "data=\"Please tell me about OpenAI\"\n",
    "response = openai.chat.completions.create(\n",
    "                model=\"gpt-3.5-turbo\",\n",
    "                messages=[\n",
    "                    {\"role\": \"system\", \"content\": \"Behave like an AI Assistant.\"},\n",
    "                    {\"role\": \"user\", \"content\": data},\n",
    "                    {\"role\": \"assistant\", \"content\":\"Do as the prompt suggests\"}],\n",
    "                stream=True,\n",
    "                )\n"
   ]
  },
  {
   "cell_type": "code",
   "execution_count": 8,
   "metadata": {},
   "outputs": [
    {
     "name": "stdout",
     "output_type": "stream",
     "text": [
      "OpenAI is an artificial intelligence research lab focused on creating and promoting friendly AI for the benefit of humanity. It was founded in December 2015 by Elon Musk, Sam Altman, Greg Brockman, Ilya Sutskever, Wojciech Zaremba, and John Schulman. OpenAI conducts research in areas such as machine learning, natural language processing, robotics, and reinforcement learning. The organization aims to ensure that artificial general intelligence (AGI) benefits all of humanity."
     ]
    }
   ],
   "source": [
    "for chunk in response:\n",
    "    if chunk.choices[0].delta.content is not None:\n",
    "        print(chunk.choices[0].delta.content, end=\"\")"
   ]
  },
  {
   "cell_type": "code",
   "execution_count": 12,
   "metadata": {},
   "outputs": [],
   "source": [
    "@app.route('/', methods=['GET','POST'])\n",
    "def index():\n",
    "    if request.method == 'POST':\n",
    "            data=request.form[\"data\"]\n",
    "            response = openai.chat.completions.create(\n",
    "                model=\"gpt-3.5-turbo\",\n",
    "                messages=[\n",
    "                    {\"role\": \"system\", \"content\": \"Behave like an AI Assistant.\"},\n",
    "                    {\"role\": \"user\", \"content\": data},\n",
    "                ])\n",
    "            print()\n",
    "            return redirect(url_for(\"index\"),result=response.choices[0].message.content)\n",
    "    result= request.args.get(\"result\")\n",
    "    return render_template(\"index.html\",result=result)\n",
    "    "
   ]
  },
  {
   "cell_type": "code",
   "execution_count": null,
   "metadata": {},
   "outputs": [],
   "source": [
    "if __name__ == '__main__':\n",
    "    app.run(debug=True)"
   ]
  },
  {
   "cell_type": "code",
   "execution_count": 3,
   "metadata": {},
   "outputs": [
    {
     "name": "stdout",
     "output_type": "stream",
     "text": [
      "4fd1e496cfd88e70e9f6a0439e130f583f34d3350c9143af9a17ba0d59802e9c\n"
     ]
    }
   ],
   "source": [
    "import secrets\n",
    "\n",
    "# Generate a random secret key\n",
    "secret_key = secrets.token_hex(32)\n",
    "print(secret_key)\n"
   ]
  }
 ],
 "metadata": {
  "kernelspec": {
   "display_name": "venv",
   "language": "python",
   "name": "python3"
  },
  "language_info": {
   "codemirror_mode": {
    "name": "ipython",
    "version": 3
   },
   "file_extension": ".py",
   "mimetype": "text/x-python",
   "name": "python",
   "nbconvert_exporter": "python",
   "pygments_lexer": "ipython3",
   "version": "3.11.3"
  }
 },
 "nbformat": 4,
 "nbformat_minor": 2
}
